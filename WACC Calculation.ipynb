{
 "cells": [
  {
   "cell_type": "markdown",
   "id": "e9d76489",
   "metadata": {},
   "source": [
    "### <u> Importing Modules </u>"
   ]
  },
  {
   "cell_type": "code",
   "execution_count": 26,
   "id": "d475b33c",
   "metadata": {},
   "outputs": [],
   "source": [
    "import pandas as pd\n",
    "import numpy as np\n",
    "import math"
   ]
  },
  {
   "cell_type": "markdown",
   "id": "2e488c2d",
   "metadata": {},
   "source": [
    "### <u>Retrieving TMS ID of Existing Unitholders Who Actively Traded In the Market.</u>\n",
    "#### *Active Traders and non active traders are classified based on the report provided by cdsc*"
   ]
  },
  {
   "cell_type": "code",
   "execution_count": 27,
   "id": "d5424eec",
   "metadata": {
    "scrolled": true
   },
   "outputs": [],
   "source": [
    "tms_codes = pd.read_excel('Shareholder List As of 27.07.2023.xlsx')\n",
    "tms_ids = tms_codes['tms_clean'].dropna().drop_duplicates()"
   ]
  },
  {
   "cell_type": "markdown",
   "id": "48f1a094",
   "metadata": {},
   "source": [
    "### <u> Reading Floorsheet Data </u>\n",
    "\n",
    "#### *Floorsheet Data Provided by NEPSE for the respective mutual fund.*"
   ]
  },
  {
   "cell_type": "code",
   "execution_count": 35,
   "id": "43462d04",
   "metadata": {},
   "outputs": [
    {
     "name": "stdout",
     "output_type": "stream",
     "text": [
      "The total number of traders as per TMS 8640\n"
     ]
    }
   ],
   "source": [
    "data= pd.read_excel('Floorsheet AFTER ADDING IPO DATA.xlsm')\n",
    "data['CONTRACT_DATE'] = pd.to_datetime(data['CONTRACT_DATE'])\n",
    "print(f'The total number of traders as per TMS {len(data.TMS_CLIENT_CODE.drop_duplicates())}')"
   ]
  },
  {
   "cell_type": "code",
   "execution_count": null,
   "id": "dd12d314",
   "metadata": {
    "scrolled": true
   },
   "outputs": [],
   "source": [
    "all_info = []\n",
    "for index, each_client in  enumerate(tms_ids):\n",
    "    print(index, each_client)\n",
    "    indi_data = data.copy()\n",
    "    indi_data = indi_data[indi_data['TMS_CLIENT_CODE'] == each_client]\n",
    "    indi_data.sort_values(by = ['CONTRACT_DATE'], ascending= True, inplace = True)\n",
    "    indi_data['Quantity_buy_sell'] = np.where((indi_data['BUY_OR_SELL'] == \"Buy\") | (indi_data['BUY_OR_SELL'] == \"IPO\"), indi_data['CONTRACT_QUANTITY'], -indi_data['CONTRACT_QUANTITY'])\n",
    "    condition = 0\n",
    "    if len(indi_data) ==0:\n",
    "        client_name = 'error'\n",
    "        wacc = 'error'\n",
    "        remarks = 'error'\n",
    "    else:\n",
    "        if set(indi_data['BUY_OR_SELL'].unique()).issubset(['Buy', 'IPO']) == True: #If client has shares from IPO and buy only, no sell\n",
    "            dp_fee = len(indi_data['CONTRACT_DATE'].drop_duplicates())*25\n",
    "            wacc = ((indi_data['Effective amount'].sum()+dp_fee)/indi_data['CONTRACT_QUANTITY'].sum())\n",
    "            client_name = indi_data['ClientFullName'].iloc[0]\n",
    "            remarks = 'IPO and buy only since inception'\n",
    "        elif set(indi_data['BUY_OR_SELL'].unique()).issubset(['Sell', 'IPO']) == True:#If client has sell and IPO only, no buy\n",
    "            wacc = 10\n",
    "            client_name = indi_data['ClientFullName'].iloc[0]\n",
    "            remarks = 'IPO and sell only since inception'\n",
    "        else: # If client has IPO, buy, and sell trades\n",
    "            indi_data =  indi_data[[ 'ClientFullName', 'TMS_CLIENT_CODE', 'BUY_OR_SELL', 'CONTRACT_DATE','Effective amount', 'Effective rate','CONTRACT_QUANTITY', 'Quantity_buy_sell' ]]\n",
    "            indi_data['Cumsum_qty'] = indi_data['Quantity_buy_sell'].cumsum()\n",
    "            indi_data['cumsum_amt'] = indi_data['Effective amount'].cumsum()\n",
    "\n",
    "            if not(indi_data['Cumsum_qty'] == 0).any() == True: #Read below docstring\n",
    "                \"\"\"If there is no any zero values in cumsum_qty column it means\n",
    "                    the entire positions was never sold off. Which means total sum of amt divided by total qty gives wacc.\"\"\"\n",
    "                if list(indi_data['BUY_OR_SELL'])[0] == 'IPO': #If the client has shares from IPO\n",
    "                    dp = indi_data\n",
    "                    dp = dp[dp['BUY_OR_SELL'] == 'Buy']\n",
    "                    no_of_days_of_buy = len(dp['CONTRACT_DATE'].drop_duplicates())\n",
    "                    total_dp_fee = no_of_days_of_buy * 25\n",
    "                    buy_only_trades = indi_data[indi_data['BUY_OR_SELL'].isin(['IPO', 'Buy'])]\n",
    "                    wacc = (buy_only_trades['Effective amount'].sum()+total_dp_fee)/buy_only_trades['CONTRACT_QUANTITY'].sum()\n",
    "                    client_name =  indi_data['ClientFullName'].iloc[0]\n",
    "                    remarks = 'Has IPO,buy, and sell, entire portfolio never liquidated'\n",
    "                else: #If the client does not have ipo shares\n",
    "                    dp = indi_data\n",
    "                    dp = dp[dp['BUY_OR_SELL'] == 'Buy']\n",
    "                    no_of_days_of_buy = len(dp['CONTRACT_DATE'].drop_duplicates())\n",
    "                    total_dp_fee = no_of_days_of_buy * 25\n",
    "                    buy_only_trades = indi_data[indi_data['BUY_OR_SELL'] == 'Buy']\n",
    "                    wacc = ((buy_only_trades['Effective amount'].sum()+total_dp_fee)/buy_only_trades['Quantity_buy_sell'].sum())            \n",
    "                    client_name = indi_data['ClientFullName'].iloc[0]\n",
    "                    remarks = 'Has buy and sell shares no IPO, entire portfolio never sold'\n",
    "            else: #If the cumsum_qty comprises 0 value which means position was entirely liquidated in the review period.\n",
    "                for_dp_fee = indi_data.copy()\n",
    "                if for_dp_fee.BUY_OR_SELL.iloc[0] == 'IPO':\n",
    "                    for_dp_fee.iloc[0, -1] -= 25\n",
    "                else:\n",
    "                    pass\n",
    "                for_dp_fee.replace('IPO', 'Buy', inplace = True)\n",
    "                for_dp_fee['Cumsum_qty'] = for_dp_fee['Cumsum_qty'].replace(0, np.nan, regex=True)\n",
    "                for_dp_fee['blocks'] = for_dp_fee['Cumsum_qty'].isnull().cumsum()\n",
    "                for_dp_fee['keep_last'] = for_dp_fee['blocks'].duplicated(keep='last')\n",
    "                for_dp_fee['qty_sum'] = for_dp_fee.groupby(['blocks', 'BUY_OR_SELL'])['CONTRACT_QUANTITY'].cumsum()\n",
    "                for_dp_fee['amt_sum'] = for_dp_fee.groupby(['blocks', 'BUY_OR_SELL'])['Effective amount'].cumsum()\n",
    "\n",
    "                remove_dups = for_dp_fee.copy()\n",
    "                remove_dups.drop_duplicates(subset= 'CONTRACT_DATE', inplace = True)\n",
    "                remove_dups['Buy_Count'] = remove_dups.groupby('blocks')['BUY_OR_SELL'].transform(lambda x: x.eq('Buy').sum())\n",
    "                remove_dups.drop_duplicates(subset= 'blocks', inplace = True)\n",
    "                remove_dups = remove_dups[['blocks', 'Buy_Count']]\n",
    "\n",
    "                count_dp_fee = for_dp_fee.merge(remove_dups, on = 'blocks', how = 'left')\n",
    "                count_dp_fee['DP Fee'] = count_dp_fee['Buy_Count'] * 25 #Don't apply dp fee for ipo----------->look here\n",
    "                count_dp_fee['Total_buy_amount'] = count_dp_fee['amt_sum'] + count_dp_fee['DP Fee']\n",
    "                count_dp_fee['WACC'] = count_dp_fee['Total_buy_amount']/count_dp_fee['qty_sum']\n",
    "                count_dp_fee['block&signal'] = count_dp_fee['blocks'].astype(str) + count_dp_fee['BUY_OR_SELL'] \n",
    "                count_dp_fee = count_dp_fee[count_dp_fee['BUY_OR_SELL'] == 'Buy']\n",
    "                count_dp_fee = count_dp_fee.drop_duplicates(subset= 'block&signal', keep = 'last')\n",
    "                wacc = count_dp_fee['WACC'].iloc[-1]\n",
    "                client_name = count_dp_fee['ClientFullName'].iloc[0]\n",
    "                remarks = 'Has buy, sell, and IPO, and entire portfolio was liquidated in between and purchased again'\n",
    "                condition = 3\n",
    "                \n",
    "        info = {'ClientID' : each_client,\n",
    "                'Client Name' : client_name,\n",
    "                'WACC'     : wacc,\n",
    "                'Remarks' : remarks\n",
    "               }\n",
    "        all_info.append(info)\n",
    "        \n",
    "    writer = pd.ExcelWriter(f'WACC ALL (LATEST)/{each_client}.xlsx', engine='openpyxl')\n",
    "    \n",
    "    if condition == 0:\n",
    "        indi_data.to_excel(writer, sheet_name='TRADES', index=False)\n",
    "        pd.DataFrame([info]).to_excel(writer, sheet_name='WACC', index=False)\n",
    "    else:\n",
    "        count_dp_fee.to_excel(writer, sheet_name='TRADES', index=False)\n",
    "        pd.DataFrame([info]).to_excel(writer, sheet_name='WACC', index=False)\n",
    "    writer.save()\n",
    "    writer.close()"
   ]
  },
  {
   "cell_type": "code",
   "execution_count": null,
   "id": "02b69ef6",
   "metadata": {},
   "outputs": [],
   "source": [
    "pd.DataFrame.from_dict(all_info).to_csv('WACC as on 30.07.2023.csv')"
   ]
  }
 ],
 "metadata": {
  "kernelspec": {
   "display_name": "Python 3 (ipykernel)",
   "language": "python",
   "name": "python3"
  },
  "language_info": {
   "codemirror_mode": {
    "name": "ipython",
    "version": 3
   },
   "file_extension": ".py",
   "mimetype": "text/x-python",
   "name": "python",
   "nbconvert_exporter": "python",
   "pygments_lexer": "ipython3",
   "version": "3.11.3"
  }
 },
 "nbformat": 4,
 "nbformat_minor": 5
}
